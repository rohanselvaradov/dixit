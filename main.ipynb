{
 "cells": [
  {
   "cell_type": "code",
   "execution_count": 10,
   "metadata": {},
   "outputs": [],
   "source": [
    "from PIL import Image\n",
    "from pdf2image import convert_from_path\n",
    "import matplotlib.pyplot as plt\n",
    "import os"
   ]
  },
  {
   "cell_type": "code",
   "execution_count": null,
   "metadata": {},
   "outputs": [],
   "source": [
    "# Convert all pages of the PDF to a list of images\n",
    "images = convert_from_path('rules/all_cards.pdf')\n",
    "\n",
    "# Don't want the backs of the pages\n",
    "backs = set([2, 4, 6, 8, 11, 12, 14, 16, 18, 21, 22, 24])\n",
    "\n",
    "# Define your grid - adjust based on your specific grid layout\n",
    "num_rows = 3\n",
    "num_cols = 3\n",
    "\n",
    "for i, page in enumerate(images):\n",
    "    if i + 1 in backs:\n",
    "        continue\n",
    "    os.mkdir('images/page_{}'.format(i))\n",
    "    width, height = page.size\n",
    "    cell_width = width // num_cols\n",
    "    cell_height = height // num_rows\n",
    "    images = []\n",
    "    # Save each cell as an image\n",
    "    for r in range(num_rows):\n",
    "        for c in range(num_cols):\n",
    "            left = c * cell_width\n",
    "            upper = r * cell_height\n",
    "            right = (c + 1) * cell_width\n",
    "            lower = (r + 1) * cell_height\n",
    "            cell = page.crop((left, upper, right, lower))\n",
    "            # images.append(cell)\n",
    "            cell.save('images/page_{}/{}_{}.png'.format(i, r, c), 'PNG')\n",
    "    fig, axes = plt.subplots(3, 3, figsize=(8, 8))\n",
    "\n",
    "    for i, ax in enumerate(axes.flat):\n",
    "        if i < len(images):\n",
    "            ax.imshow(images[i])\n",
    "            ax.axis('off')  # Hide axes\n",
    "\n",
    "    plt.show()\n",
    "    "
   ]
  }
 ],
 "metadata": {
  "kernelspec": {
   "display_name": "venv",
   "language": "python",
   "name": "python3"
  },
  "language_info": {
   "codemirror_mode": {
    "name": "ipython",
    "version": 3
   },
   "file_extension": ".py",
   "mimetype": "text/x-python",
   "name": "python",
   "nbconvert_exporter": "python",
   "pygments_lexer": "ipython3",
   "version": "3.10.12"
  },
  "orig_nbformat": 4
 },
 "nbformat": 4,
 "nbformat_minor": 2
}
