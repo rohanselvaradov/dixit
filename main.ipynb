{
 "cells": [
  {
   "cell_type": "code",
   "execution_count": 10,
   "metadata": {},
   "outputs": [],
   "source": [
    "from PIL import Image\n",
    "from pdf2image import convert_from_path\n",
    "import matplotlib.pyplot as plt\n",
    "import os"
   ]
  },
  {
   "cell_type": "code",
   "execution_count": null,
   "metadata": {},
   "outputs": [],
   "source": [
    "# Convert all pages of the PDF to a list of images\n",
    "images = convert_from_path('rules/all_cards.pdf')\n",
    "\n",
    "# Don't want the backs of the pages\n",
    "backs = set([2, 4, 6, 8, 11, 12, 14, 16, 18, 21, 22, 24])\n",
    "\n",
    "# Define your grid - adjust based on your specific grid layout\n",
    "num_rows = 3\n",
    "num_cols = 3\n",
    "\n",
    "for i, page in enumerate(images):\n",
    "    if i + 1 in backs:\n",
    "        continue\n",
    "    os.mkdir('images/page_{}'.format(i))\n",
    "    width, height = page.size\n",
    "    cell_width = width // num_cols\n",
    "    cell_height = height // num_rows\n",
    "    images = []\n",
    "    # Save each cell as an image\n",
    "    for r in range(num_rows):\n",
    "        for c in range(num_cols):\n",
    "            left = c * cell_width\n",
    "            upper = r * cell_height\n",
    "            right = (c + 1) * cell_width\n",
    "            lower = (r + 1) * cell_height\n",
    "            cell = page.crop((left, upper, right, lower))\n",
    "            # images.append(cell)\n",
    "            cell.save('images/page_{}/{}_{}.png'.format(i, r, c), 'PNG')\n",
    "    fig, axes = plt.subplots(3, 3, figsize=(8, 8))\n",
    "\n",
    "    for i, ax in enumerate(axes.flat):\n",
    "        if i < len(images):\n",
    "            ax.imshow(images[i])\n",
    "            ax.axis('off')  # Hide axes\n",
    "\n",
    "    plt.show()\n",
    "    "
   ]
  },
  {
   "cell_type": "code",
   "execution_count": 4,
   "metadata": {},
   "outputs": [
    {
     "name": "stderr",
     "output_type": "stream",
     "text": [
      "Resolving data files: 100%|██████████| 108/108 [00:00<00:00, 95727.99it/s]\n",
      "Downloading data files: 100%|██████████| 108/108 [00:00<00:00, 33310.16it/s]\n",
      "Downloading data files: 0it [00:00, ?it/s]\n",
      "Extracting data files: 0it [00:00, ?it/s]\n",
      "Generating train split: 108 examples [00:00, 870.85 examples/s] \n"
     ]
    }
   ],
   "source": [
    "from datasets import load_dataset\n",
    "dataset = load_dataset('imagefolder', data_dir='images')"
   ]
  },
  {
   "cell_type": "code",
   "execution_count": null,
   "metadata": {},
   "outputs": [],
   "source": [
    "! accelerate config"
   ]
  },
  {
   "cell_type": "code",
   "execution_count": 6,
   "metadata": {},
   "outputs": [],
   "source": [
    "\n",
    "! export MODEL_NAME=\"runwayml/stable-diffusion-v1-5\"\n",
    "! export DATA_DIR=\"./data\"\n"
   ]
  },
  {
   "cell_type": "code",
   "execution_count": null,
   "metadata": {},
   "outputs": [],
   "source": [
    "! accelerate launch textual_inversion.py \\\n",
    "  --pretrained_model_name_or_path=$MODEL_NAME \\\n",
    "  --train_data_dir=$DATA_DIR \\\n",
    "  --learnable_property=\"object\" \\\n",
    "  --placeholder_token=\"<dixit>\" --initializer_token=\"artwork\" \\\n",
    "  --resolution=512 \\\n",
    "  --train_batch_size=1 \\\n",
    "  --gradient_accumulation_steps=4 \\\n",
    "  --max_train_steps=3000 \\\n",
    "  --learning_rate=5.0e-04 --scale_lr \\\n",
    "  --lr_scheduler=\"constant\" \\\n",
    "  --lr_warmup_steps=0 \\\n",
    "  --output_dir=\"textual_inversion_dixit\" \\\n",
    "  --validation_prompt=\"A <dixit> scene in the woods\" \\\n",
    "  --num_validation_images=4 \\\n",
    "  --validation_steps=10"
   ]
  }
 ],
 "metadata": {
  "kernelspec": {
   "display_name": "venv",
   "language": "python",
   "name": "python3"
  },
  "language_info": {
   "codemirror_mode": {
    "name": "ipython",
    "version": 3
   },
   "file_extension": ".py",
   "mimetype": "text/x-python",
   "name": "python",
   "nbconvert_exporter": "python",
   "pygments_lexer": "ipython3",
   "version": "3.10.12"
  },
  "orig_nbformat": 4
 },
 "nbformat": 4,
 "nbformat_minor": 2
}
